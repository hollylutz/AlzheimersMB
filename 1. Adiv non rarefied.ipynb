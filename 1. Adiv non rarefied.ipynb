{
 "cells": [
  {
   "cell_type": "code",
   "execution_count": 2,
   "metadata": {},
   "outputs": [],
   "source": [
    "library(phyloseq)\n",
    "library(ggplot2)\n",
    "library(vegan)\n",
    "library(readr)\n",
    "library(data.table)\n",
    "library(dplyr)\n",
    "library(stats)\n",
    "library(ggpubr)\n",
    "library(dunn.test)"
   ]
  },
  {
   "cell_type": "code",
   "execution_count": 26,
   "metadata": {},
   "outputs": [],
   "source": [
    "#Read in data\n",
    "alz_nt = readRDS(\"/gpfs/data/gilbert-lab/Lutz/Alzheimers/RDSfiles/alz_nt.rds\")\n",
    "alz_nt_1k = readRDS(\"/gpfs/data/gilbert-lab/Lutz/Alzheimers/RDSfiles/alz_nt_1k.rds\")                                                   \n",
    "alz_nt_5k = readRDS(\"/gpfs/data/gilbert-lab/Lutz/Alzheimers/RDSfiles/alz_nt_5k.rds\")                                                   \n",
    "alz_nt_10k = readRDS(\"/gpfs/data/gilbert-lab/Lutz/Alzheimers/RDSfiles/alz_nt_10k.rds\")\n"
   ]
  },
  {
   "cell_type": "code",
   "execution_count": 44,
   "metadata": {},
   "outputs": [
    {
     "data": {
      "text/html": [
       "<table>\n",
       "<thead><tr><th></th><th scope=col>SampleID</th><th scope=col>BarcodeSequence</th><th scope=col>LinkerPrimerSequence</th><th scope=col>PrimerPlate</th><th scope=col>PrimerWell</th><th scope=col>Tube</th><th scope=col>MouseTag</th><th scope=col>Sex</th><th scope=col>Treatment</th><th scope=col>Sex_Treatment</th><th scope=col>FecalMassGm</th><th scope=col>Description</th></tr></thead>\n",
       "<tbody>\n",
       "\t<tr><th scope=row>M1</th><td>M1                   </td><td>CTACAGGGTCTC         </td><td>GTGTGYCAGCMGCCGCGGTAA</td><td>2                    </td><td>A1                   </td><td> 1                   </td><td>3289                 </td><td>M                    </td><td>Control              </td><td>M_Control            </td><td>0.0539               </td><td>M1                   </td></tr>\n",
       "\t<tr><th scope=row>M29</th><td>M29                  </td><td>GCTGCCCACCTA         </td><td>GTGTGYCAGCMGCCGCGGTAA</td><td>2                    </td><td>C5                   </td><td>29                   </td><td>3195                 </td><td>M                    </td><td>Abx_FMT              </td><td>M_Abx_FMT            </td><td>    NA               </td><td>M29                  </td></tr>\n",
       "\t<tr><th scope=row>M7</th><td>M7                   </td><td>TGAGTCATTGAG         </td><td>GTGTGYCAGCMGCCGCGGTAA</td><td>2                    </td><td>A7                   </td><td> 7                   </td><td>3181                 </td><td>M                    </td><td>Control              </td><td>M_Control            </td><td>0.0417               </td><td>M7                   </td></tr>\n",
       "\t<tr><th scope=row>M26</th><td>M26                  </td><td>AGAGGGTGATCG         </td><td>GTGTGYCAGCMGCCGCGGTAA</td><td>2                    </td><td>C2                   </td><td>26                   </td><td>3069                 </td><td>M                    </td><td>Abx                  </td><td>M_Abx                </td><td>0.0387               </td><td>M26                  </td></tr>\n",
       "\t<tr><th scope=row>M44</th><td>M44                  </td><td>CTAATCAGAGTG         </td><td>GTGTGYCAGCMGCCGCGGTAA</td><td>2                    </td><td>D8                   </td><td>44                   </td><td>2878                 </td><td>F                    </td><td>Abx                  </td><td>F_Abx                </td><td>0.0382               </td><td>M44                  </td></tr>\n",
       "\t<tr><th scope=row>M31</th><td>M31                  </td><td>AGATCGTGCCTA         </td><td>GTGTGYCAGCMGCCGCGGTAA</td><td>2                    </td><td>C7                   </td><td>31                   </td><td>3110                 </td><td>F                    </td><td>Control              </td><td>F_Control            </td><td>0.0171               </td><td>M31                  </td></tr>\n",
       "</tbody>\n",
       "</table>\n"
      ],
      "text/latex": [
       "\\begin{tabular}{r|llllllllllll}\n",
       "  & SampleID & BarcodeSequence & LinkerPrimerSequence & PrimerPlate & PrimerWell & Tube & MouseTag & Sex & Treatment & Sex\\_Treatment & FecalMassGm & Description\\\\\n",
       "\\hline\n",
       "\tM1 & M1                    & CTACAGGGTCTC          & GTGTGYCAGCMGCCGCGGTAA & 2                     & A1                    &  1                    & 3289                  & M                     & Control               & M\\_Control           & 0.0539                & M1                   \\\\\n",
       "\tM29 & M29                   & GCTGCCCACCTA          & GTGTGYCAGCMGCCGCGGTAA & 2                     & C5                    & 29                    & 3195                  & M                     & Abx\\_FMT             & M\\_Abx\\_FMT         &     NA                & M29                  \\\\\n",
       "\tM7 & M7                    & TGAGTCATTGAG          & GTGTGYCAGCMGCCGCGGTAA & 2                     & A7                    &  7                    & 3181                  & M                     & Control               & M\\_Control           & 0.0417                & M7                   \\\\\n",
       "\tM26 & M26                   & AGAGGGTGATCG          & GTGTGYCAGCMGCCGCGGTAA & 2                     & C2                    & 26                    & 3069                  & M                     & Abx                   & M\\_Abx               & 0.0387                & M26                  \\\\\n",
       "\tM44 & M44                   & CTAATCAGAGTG          & GTGTGYCAGCMGCCGCGGTAA & 2                     & D8                    & 44                    & 2878                  & F                     & Abx                   & F\\_Abx               & 0.0382                & M44                  \\\\\n",
       "\tM31 & M31                   & AGATCGTGCCTA          & GTGTGYCAGCMGCCGCGGTAA & 2                     & C7                    & 31                    & 3110                  & F                     & Control               & F\\_Control           & 0.0171                & M31                  \\\\\n",
       "\\end{tabular}\n"
      ],
      "text/markdown": [
       "\n",
       "| <!--/--> | SampleID | BarcodeSequence | LinkerPrimerSequence | PrimerPlate | PrimerWell | Tube | MouseTag | Sex | Treatment | Sex_Treatment | FecalMassGm | Description |\n",
       "|---|---|---|---|---|---|---|---|---|---|---|---|---|\n",
       "| M1 | M1                    | CTACAGGGTCTC          | GTGTGYCAGCMGCCGCGGTAA | 2                     | A1                    |  1                    | 3289                  | M                     | Control               | M_Control             | 0.0539                | M1                    |\n",
       "| M29 | M29                   | GCTGCCCACCTA          | GTGTGYCAGCMGCCGCGGTAA | 2                     | C5                    | 29                    | 3195                  | M                     | Abx_FMT               | M_Abx_FMT             |     NA                | M29                   |\n",
       "| M7 | M7                    | TGAGTCATTGAG          | GTGTGYCAGCMGCCGCGGTAA | 2                     | A7                    |  7                    | 3181                  | M                     | Control               | M_Control             | 0.0417                | M7                    |\n",
       "| M26 | M26                   | AGAGGGTGATCG          | GTGTGYCAGCMGCCGCGGTAA | 2                     | C2                    | 26                    | 3069                  | M                     | Abx                   | M_Abx                 | 0.0387                | M26                   |\n",
       "| M44 | M44                   | CTAATCAGAGTG          | GTGTGYCAGCMGCCGCGGTAA | 2                     | D8                    | 44                    | 2878                  | F                     | Abx                   | F_Abx                 | 0.0382                | M44                   |\n",
       "| M31 | M31                   | AGATCGTGCCTA          | GTGTGYCAGCMGCCGCGGTAA | 2                     | C7                    | 31                    | 3110                  | F                     | Control               | F_Control             | 0.0171                | M31                   |\n",
       "\n"
      ],
      "text/plain": [
       "    SampleID BarcodeSequence LinkerPrimerSequence  PrimerPlate PrimerWell Tube\n",
       "M1  M1       CTACAGGGTCTC    GTGTGYCAGCMGCCGCGGTAA 2           A1          1  \n",
       "M29 M29      GCTGCCCACCTA    GTGTGYCAGCMGCCGCGGTAA 2           C5         29  \n",
       "M7  M7       TGAGTCATTGAG    GTGTGYCAGCMGCCGCGGTAA 2           A7          7  \n",
       "M26 M26      AGAGGGTGATCG    GTGTGYCAGCMGCCGCGGTAA 2           C2         26  \n",
       "M44 M44      CTAATCAGAGTG    GTGTGYCAGCMGCCGCGGTAA 2           D8         44  \n",
       "M31 M31      AGATCGTGCCTA    GTGTGYCAGCMGCCGCGGTAA 2           C7         31  \n",
       "    MouseTag Sex Treatment Sex_Treatment FecalMassGm Description\n",
       "M1  3289     M   Control   M_Control     0.0539      M1         \n",
       "M29 3195     M   Abx_FMT   M_Abx_FMT         NA      M29        \n",
       "M7  3181     M   Control   M_Control     0.0417      M7         \n",
       "M26 3069     M   Abx       M_Abx         0.0387      M26        \n",
       "M44 2878     F   Abx       F_Abx         0.0382      M44        \n",
       "M31 3110     F   Control   F_Control     0.0171      M31        "
      ]
     },
     "metadata": {},
     "output_type": "display_data"
    }
   ],
   "source": [
    "sample_tab = data.frame(sample_data(alz_nt))\n",
    "names(sample_tab) <- c(\"SampleID\", \"BarcodeSequence\", \"LinkerPrimerSequence\", \"PrimerPlate\", \"PrimerWell\", \"Tube\", \"MouseTag\", \"Sex\", \"Treatment\", \"Sex_Treatment\",\"FecalMassGm\",\"Description\")\n",
    "head(sample_tab)"
   ]
  },
  {
   "cell_type": "code",
   "execution_count": 4,
   "metadata": {},
   "outputs": [],
   "source": [
    "alz_nt_M = subset_samples(alz_nt, Sex==\"M\")\n",
    "alz_nt_F = subset_samples(alz_nt, Sex==\"F\")"
   ]
  },
  {
   "cell_type": "markdown",
   "metadata": {},
   "source": [
    "### Observed Richness"
   ]
  },
  {
   "cell_type": "code",
   "execution_count": 13,
   "metadata": {},
   "outputs": [
    {
     "data": {
      "text/html": [
       "<table>\n",
       "<thead><tr><th scope=col>Treatment</th><th scope=col>median</th><th scope=col>mean</th><th scope=col>sd</th><th scope=col>sem</th></tr></thead>\n",
       "<tbody>\n",
       "\t<tr><td>Abx     </td><td>140.0   </td><td>140.1   </td><td>48.66998</td><td>15.39080</td></tr>\n",
       "\t<tr><td>Abx_FMT </td><td>167.5   </td><td>166.8   </td><td>44.68109</td><td>14.12940</td></tr>\n",
       "\t<tr><td>Control </td><td>183.0   </td><td>181.9   </td><td>55.07258</td><td>17.41548</td></tr>\n",
       "</tbody>\n",
       "</table>\n"
      ],
      "text/latex": [
       "\\begin{tabular}{r|lllll}\n",
       " Treatment & median & mean & sd & sem\\\\\n",
       "\\hline\n",
       "\t Abx      & 140.0    & 140.1    & 48.66998 & 15.39080\\\\\n",
       "\t Abx\\_FMT & 167.5     & 166.8     & 44.68109  & 14.12940 \\\\\n",
       "\t Control  & 183.0    & 181.9    & 55.07258 & 17.41548\\\\\n",
       "\\end{tabular}\n"
      ],
      "text/markdown": [
       "\n",
       "| Treatment | median | mean | sd | sem |\n",
       "|---|---|---|---|---|\n",
       "| Abx      | 140.0    | 140.1    | 48.66998 | 15.39080 |\n",
       "| Abx_FMT  | 167.5    | 166.8    | 44.68109 | 14.12940 |\n",
       "| Control  | 183.0    | 181.9    | 55.07258 | 17.41548 |\n",
       "\n"
      ],
      "text/plain": [
       "  Treatment median mean  sd       sem     \n",
       "1 Abx       140.0  140.1 48.66998 15.39080\n",
       "2 Abx_FMT   167.5  166.8 44.68109 14.12940\n",
       "3 Control   183.0  181.9 55.07258 17.41548"
      ]
     },
     "metadata": {},
     "output_type": "display_data"
    },
    {
     "data": {
      "text/plain": [
       "\n",
       "\tKruskal-Wallis rank sum test\n",
       "\n",
       "data:  Observed by Treatment\n",
       "Kruskal-Wallis chi-squared = 3.2259, df = 2, p-value = 0.1993\n"
      ]
     },
     "metadata": {},
     "output_type": "display_data"
    },
    {
     "name": "stdout",
     "output_type": "stream",
     "text": [
      "  Kruskal-Wallis rank sum test\n",
      "\n",
      "data: x and group\n",
      "Kruskal-Wallis chi-squared = 3.2259, df = 2, p-value = 0.2\n",
      "\n",
      "\n",
      "                           Comparison of x by group                            \n",
      "                                 (Bonferroni)                                  \n",
      "Col Mean-|\n",
      "Row Mean |        Abx    Abx_FMT\n",
      "---------+----------------------\n",
      " Abx_FMT |  -1.168531\n",
      "         |     0.3639\n",
      "         |\n",
      " Control |  -1.765498  -0.596967\n",
      "         |     0.1162     0.8258\n",
      "\n",
      "alpha = 0.05\n",
      "Reject Ho if p <= alpha/2\n"
     ]
    },
    {
     "data": {
      "text/html": [
       "<dl>\n",
       "\t<dt>$chi2</dt>\n",
       "\t\t<dd>3.22587894971072</dd>\n",
       "\t<dt>$Z</dt>\n",
       "\t\t<dd><ol class=list-inline>\n",
       "\t<li>-1.16853115685055</li>\n",
       "\t<li>-1.76549816089377</li>\n",
       "\t<li>-0.596967004043216</li>\n",
       "</ol>\n",
       "</dd>\n",
       "\t<dt>$P</dt>\n",
       "\t\t<dd><ol class=list-inline>\n",
       "\t<li>0.121296289553153</li>\n",
       "\t<li>0.0387400395253071</li>\n",
       "\t<li>0.275264705236165</li>\n",
       "</ol>\n",
       "</dd>\n",
       "\t<dt>$P.adjusted</dt>\n",
       "\t\t<dd><ol class=list-inline>\n",
       "\t<li>0.363888868659458</li>\n",
       "\t<li>0.116220118575921</li>\n",
       "\t<li>0.825794115708494</li>\n",
       "</ol>\n",
       "</dd>\n",
       "\t<dt>$comparisons</dt>\n",
       "\t\t<dd><ol class=list-inline>\n",
       "\t<li>'Abx - Abx_FMT'</li>\n",
       "\t<li>'Abx - Control'</li>\n",
       "\t<li>'Abx_FMT - Control'</li>\n",
       "</ol>\n",
       "</dd>\n",
       "</dl>\n"
      ],
      "text/latex": [
       "\\begin{description}\n",
       "\\item[\\$chi2] 3.22587894971072\n",
       "\\item[\\$Z] \\begin{enumerate*}\n",
       "\\item -1.16853115685055\n",
       "\\item -1.76549816089377\n",
       "\\item -0.596967004043216\n",
       "\\end{enumerate*}\n",
       "\n",
       "\\item[\\$P] \\begin{enumerate*}\n",
       "\\item 0.121296289553153\n",
       "\\item 0.0387400395253071\n",
       "\\item 0.275264705236165\n",
       "\\end{enumerate*}\n",
       "\n",
       "\\item[\\$P.adjusted] \\begin{enumerate*}\n",
       "\\item 0.363888868659458\n",
       "\\item 0.116220118575921\n",
       "\\item 0.825794115708494\n",
       "\\end{enumerate*}\n",
       "\n",
       "\\item[\\$comparisons] \\begin{enumerate*}\n",
       "\\item 'Abx - Abx\\_FMT'\n",
       "\\item 'Abx - Control'\n",
       "\\item 'Abx\\_FMT - Control'\n",
       "\\end{enumerate*}\n",
       "\n",
       "\\end{description}\n"
      ],
      "text/markdown": [
       "$chi2\n",
       ":   3.22587894971072\n",
       "$Z\n",
       ":   1. -1.16853115685055\n",
       "2. -1.76549816089377\n",
       "3. -0.596967004043216\n",
       "\n",
       "\n",
       "\n",
       "$P\n",
       ":   1. 0.121296289553153\n",
       "2. 0.0387400395253071\n",
       "3. 0.275264705236165\n",
       "\n",
       "\n",
       "\n",
       "$P.adjusted\n",
       ":   1. 0.363888868659458\n",
       "2. 0.116220118575921\n",
       "3. 0.825794115708494\n",
       "\n",
       "\n",
       "\n",
       "$comparisons\n",
       ":   1. 'Abx - Abx_FMT'\n",
       "2. 'Abx - Control'\n",
       "3. 'Abx_FMT - Control'\n",
       "\n",
       "\n",
       "\n",
       "\n",
       "\n"
      ],
      "text/plain": [
       "$chi2\n",
       "[1] 3.225879\n",
       "\n",
       "$Z\n",
       "[1] -1.168531 -1.765498 -0.596967\n",
       "\n",
       "$P\n",
       "[1] 0.12129629 0.03874004 0.27526471\n",
       "\n",
       "$P.adjusted\n",
       "[1] 0.3638889 0.1162201 0.8257941\n",
       "\n",
       "$comparisons\n",
       "[1] \"Abx - Abx_FMT\"     \"Abx - Control\"     \"Abx_FMT - Control\"\n"
      ]
     },
     "metadata": {},
     "output_type": "display_data"
    }
   ],
   "source": [
    "#Observed richness by treatment group - MALES\n",
    "\n",
    "obs = estimate_richness(na.omit(alz_nt_M), split = TRUE, measures = \"Observed\")\n",
    "obs$SampleID = rownames(obs)\n",
    "\n",
    "dfobs = merge(obs, sample_tab, on=\"SampleID\")\n",
    "\n",
    "ordobs = obs %>% group_by(\"Treatment\") %>%\n",
    "    summarize(med.obs = median(Observed)) %>%\n",
    "    arrange(desc(med.obs)) %>%\n",
    "    magrittr::extract2(\"Treatment\")\n",
    "\n",
    "stats.obs = dfobs %>%\n",
    "    group_by(Treatment) %>%\n",
    "    summarize(median = median(Observed), \n",
    "              mean = mean(Observed),\n",
    "              sd = sd(Observed),\n",
    "              sem = sd(Observed/sqrt(length(Observed)))) #%>%\n",
    "    #arrange(-desc(mean))\n",
    "stats.obs\n",
    "\n",
    "#CHECK FOR SIGNIFICANCE\n",
    "stats.krusk = kruskal.test(Observed~Treatment, data=dfobs)\n",
    "stats.krusk\n",
    "\n",
    "#POST-HOC ANALYSIS\n",
    "dunn = dunn.test(dfobs$Observed, g=dfobs$Treatment, method=\"bonferroni\")\n",
    "dunn"
   ]
  },
  {
   "cell_type": "code",
   "execution_count": 14,
   "metadata": {},
   "outputs": [
    {
     "data": {
      "text/html": [
       "<table>\n",
       "<thead><tr><th scope=col>Treatment</th><th scope=col>median</th><th scope=col>mean</th><th scope=col>sd</th><th scope=col>sem</th></tr></thead>\n",
       "<tbody>\n",
       "\t<tr><td>Abx     </td><td>306     </td><td>303.8000</td><td> 98.1629</td><td>31.04184</td></tr>\n",
       "\t<tr><td>Control </td><td>334     </td><td>290.7778</td><td>128.2778</td><td>42.75927</td></tr>\n",
       "</tbody>\n",
       "</table>\n"
      ],
      "text/latex": [
       "\\begin{tabular}{r|lllll}\n",
       " Treatment & median & mean & sd & sem\\\\\n",
       "\\hline\n",
       "\t Abx      & 306      & 303.8000 &  98.1629 & 31.04184\\\\\n",
       "\t Control  & 334      & 290.7778 & 128.2778 & 42.75927\\\\\n",
       "\\end{tabular}\n"
      ],
      "text/markdown": [
       "\n",
       "| Treatment | median | mean | sd | sem |\n",
       "|---|---|---|---|---|\n",
       "| Abx      | 306      | 303.8000 |  98.1629 | 31.04184 |\n",
       "| Control  | 334      | 290.7778 | 128.2778 | 42.75927 |\n",
       "\n"
      ],
      "text/plain": [
       "  Treatment median mean     sd       sem     \n",
       "1 Abx       306    303.8000  98.1629 31.04184\n",
       "2 Control   334    290.7778 128.2778 42.75927"
      ]
     },
     "metadata": {},
     "output_type": "display_data"
    },
    {
     "data": {
      "text/plain": [
       "\n",
       "\tKruskal-Wallis rank sum test\n",
       "\n",
       "data:  Observed by Treatment\n",
       "Kruskal-Wallis chi-squared = 0.0066667, df = 1, p-value = 0.9349\n"
      ]
     },
     "metadata": {},
     "output_type": "display_data"
    },
    {
     "name": "stdout",
     "output_type": "stream",
     "text": [
      "  Kruskal-Wallis rank sum test\n",
      "\n",
      "data: x and group\n",
      "Kruskal-Wallis chi-squared = 0.0067, df = 1, p-value = 0.93\n",
      "\n",
      "\n",
      "                           Comparison of x by group                            \n",
      "                                 (Bonferroni)                                  \n",
      "Col Mean-|\n",
      "Row Mean |        Abx\n",
      "---------+-----------\n",
      " Control |   0.081649\n",
      "         |     0.4675\n",
      "\n",
      "alpha = 0.05\n",
      "Reject Ho if p <= alpha/2\n"
     ]
    },
    {
     "data": {
      "text/html": [
       "<dl>\n",
       "\t<dt>$chi2</dt>\n",
       "\t\t<dd>0.00666666666667481</dd>\n",
       "\t<dt>$Z</dt>\n",
       "\t\t<dd>0.0816496580927723</dd>\n",
       "\t<dt>$P</dt>\n",
       "\t\t<dd>0.467462655821059</dd>\n",
       "\t<dt>$P.adjusted</dt>\n",
       "\t\t<dd>0.467462655821059</dd>\n",
       "\t<dt>$comparisons</dt>\n",
       "\t\t<dd>'Abx - Control'</dd>\n",
       "</dl>\n"
      ],
      "text/latex": [
       "\\begin{description}\n",
       "\\item[\\$chi2] 0.00666666666667481\n",
       "\\item[\\$Z] 0.0816496580927723\n",
       "\\item[\\$P] 0.467462655821059\n",
       "\\item[\\$P.adjusted] 0.467462655821059\n",
       "\\item[\\$comparisons] 'Abx - Control'\n",
       "\\end{description}\n"
      ],
      "text/markdown": [
       "$chi2\n",
       ":   0.00666666666667481\n",
       "$Z\n",
       ":   0.0816496580927723\n",
       "$P\n",
       ":   0.467462655821059\n",
       "$P.adjusted\n",
       ":   0.467462655821059\n",
       "$comparisons\n",
       ":   'Abx - Control'\n",
       "\n",
       "\n"
      ],
      "text/plain": [
       "$chi2\n",
       "[1] 0.006666667\n",
       "\n",
       "$Z\n",
       "[1] 0.08164966\n",
       "\n",
       "$P\n",
       "[1] 0.4674627\n",
       "\n",
       "$P.adjusted\n",
       "[1] 0.4674627\n",
       "\n",
       "$comparisons\n",
       "[1] \"Abx - Control\"\n"
      ]
     },
     "metadata": {},
     "output_type": "display_data"
    }
   ],
   "source": [
    "#Observed richness by treatment group - FEMALES\n",
    "\n",
    "obs = estimate_richness(na.omit(alz_nt_F), split = TRUE, measures = \"Observed\")\n",
    "obs$SampleID = rownames(obs)\n",
    "\n",
    "dfobs = merge(obs, sample_tab, on=\"SampleID\")\n",
    "\n",
    "ordobs = obs %>% group_by(\"Treatment\") %>%\n",
    "    summarize(med.obs = median(Observed)) %>%\n",
    "    arrange(desc(med.obs)) %>%\n",
    "    magrittr::extract2(\"Treatment\")\n",
    "\n",
    "stats.obs = dfobs %>%\n",
    "    group_by(Treatment) %>%\n",
    "    summarize(median = median(Observed), \n",
    "              mean = mean(Observed),\n",
    "              sd = sd(Observed),\n",
    "              sem = sd(Observed/sqrt(length(Observed)))) #%>%\n",
    "    #arrange(-desc(mean))\n",
    "stats.obs\n",
    "\n",
    "#CHECK FOR SIGNIFICANCE\n",
    "stats.krusk = kruskal.test(Observed~Treatment, data=dfobs)\n",
    "stats.krusk\n",
    "\n",
    "#POST-HOC ANALYSIS\n",
    "dunn = dunn.test(dfobs$Observed, g=dfobs$Treatment, method=\"bonferroni\")\n",
    "dunn"
   ]
  },
  {
   "cell_type": "code",
   "execution_count": 53,
   "metadata": {},
   "outputs": [
    {
     "data": {
      "text/html": [
       "<table>\n",
       "<thead><tr><th scope=col>Sex</th><th scope=col>median</th><th scope=col>mean</th><th scope=col>sd</th><th scope=col>sem</th></tr></thead>\n",
       "<tbody>\n",
       "\t<tr><td>F        </td><td>334      </td><td>290.7778 </td><td>128.27780</td><td>42.75927 </td></tr>\n",
       "\t<tr><td>M        </td><td>183      </td><td>181.9000 </td><td> 55.07258</td><td>17.41548 </td></tr>\n",
       "</tbody>\n",
       "</table>\n"
      ],
      "text/latex": [
       "\\begin{tabular}{r|lllll}\n",
       " Sex & median & mean & sd & sem\\\\\n",
       "\\hline\n",
       "\t F         & 334       & 290.7778  & 128.27780 & 42.75927 \\\\\n",
       "\t M         & 183       & 181.9000  &  55.07258 & 17.41548 \\\\\n",
       "\\end{tabular}\n"
      ],
      "text/markdown": [
       "\n",
       "| Sex | median | mean | sd | sem |\n",
       "|---|---|---|---|---|\n",
       "| F         | 334       | 290.7778  | 128.27780 | 42.75927  |\n",
       "| M         | 183       | 181.9000  |  55.07258 | 17.41548  |\n",
       "\n"
      ],
      "text/plain": [
       "  Sex median mean     sd        sem     \n",
       "1 F   334    290.7778 128.27780 42.75927\n",
       "2 M   183    181.9000  55.07258 17.41548"
      ]
     },
     "metadata": {},
     "output_type": "display_data"
    },
    {
     "data": {
      "text/plain": [
       "\n",
       "\tKruskal-Wallis rank sum test\n",
       "\n",
       "data:  Observed by Sex\n",
       "Kruskal-Wallis chi-squared = 3.6849, df = 1, p-value = 0.05491\n"
      ]
     },
     "metadata": {},
     "output_type": "display_data"
    },
    {
     "name": "stdout",
     "output_type": "stream",
     "text": [
      "  Kruskal-Wallis rank sum test\n",
      "\n",
      "data: x and group\n",
      "Kruskal-Wallis chi-squared = 3.6849, df = 1, p-value = 0.05\n",
      "\n",
      "\n",
      "                           Comparison of x by group                            \n",
      "                                 (Bonferroni)                                  \n",
      "Col Mean-|\n",
      "Row Mean |          F\n",
      "---------+-----------\n",
      "       M |   1.919609\n",
      "         |     0.0275\n",
      "\n",
      "alpha = 0.05\n",
      "Reject Ho if p <= alpha/2\n"
     ]
    },
    {
     "data": {
      "text/html": [
       "<dl>\n",
       "\t<dt>$chi2</dt>\n",
       "\t\t<dd>3.68489903424057</dd>\n",
       "\t<dt>$Z</dt>\n",
       "\t\t<dd>1.91960908370443</dd>\n",
       "\t<dt>$P</dt>\n",
       "\t\t<dd>0.0274536478998158</dd>\n",
       "\t<dt>$P.adjusted</dt>\n",
       "\t\t<dd>0.0274536478998158</dd>\n",
       "\t<dt>$comparisons</dt>\n",
       "\t\t<dd>'F - M'</dd>\n",
       "</dl>\n"
      ],
      "text/latex": [
       "\\begin{description}\n",
       "\\item[\\$chi2] 3.68489903424057\n",
       "\\item[\\$Z] 1.91960908370443\n",
       "\\item[\\$P] 0.0274536478998158\n",
       "\\item[\\$P.adjusted] 0.0274536478998158\n",
       "\\item[\\$comparisons] 'F - M'\n",
       "\\end{description}\n"
      ],
      "text/markdown": [
       "$chi2\n",
       ":   3.68489903424057\n",
       "$Z\n",
       ":   1.91960908370443\n",
       "$P\n",
       ":   0.0274536478998158\n",
       "$P.adjusted\n",
       ":   0.0274536478998158\n",
       "$comparisons\n",
       ":   'F - M'\n",
       "\n",
       "\n"
      ],
      "text/plain": [
       "$chi2\n",
       "[1] 3.684899\n",
       "\n",
       "$Z\n",
       "[1] 1.919609\n",
       "\n",
       "$P\n",
       "[1] 0.02745365\n",
       "\n",
       "$P.adjusted\n",
       "[1] 0.02745365\n",
       "\n",
       "$comparisons\n",
       "[1] \"F - M\"\n"
      ]
     },
     "metadata": {},
     "output_type": "display_data"
    }
   ],
   "source": [
    "#Observed richness - treatment by sex\n",
    "\n",
    "alz_nt_control = subset_samples(alz_nt, Treatment==\"Control\")\n",
    "\n",
    "obs = estimate_richness(na.omit(alz_nt_control), split = TRUE, measures = \"Observed\")\n",
    "obs$SampleID = rownames(obs)\n",
    "\n",
    "dfobs = merge(obs, sample_tab, on=\"SampleID\")\n",
    "\n",
    "ordobs = obs %>% group_by(\"Sex\") %>%\n",
    "    summarize(med.obs = median(Observed)) %>%\n",
    "    arrange(desc(med.obs)) %>%\n",
    "    magrittr::extract2(\"Sex\")\n",
    "\n",
    "stats.obs = dfobs %>%\n",
    "    group_by(Sex) %>%\n",
    "    summarize(median = median(Observed), \n",
    "              mean = mean(Observed),\n",
    "              sd = sd(Observed),\n",
    "              sem = sd(Observed/sqrt(length(Observed)))) #%>%\n",
    "    #arrange(-desc(mean))\n",
    "stats.obs\n",
    "\n",
    "#CHECK FOR SIGNIFICANCE\n",
    "stats.krusk = kruskal.test(Observed~Sex, data=dfobs)\n",
    "stats.krusk\n",
    "\n",
    "#POST-HOC ANALYSIS\n",
    "dunn = dunn.test(dfobs$Observed, g=dfobs$Sex, method=\"bonferroni\")\n",
    "dunn"
   ]
  },
  {
   "cell_type": "code",
   "execution_count": 54,
   "metadata": {},
   "outputs": [
    {
     "data": {
      "text/html": [
       "<table>\n",
       "<thead><tr><th scope=col>Sex</th><th scope=col>median</th><th scope=col>mean</th><th scope=col>sd</th><th scope=col>sem</th></tr></thead>\n",
       "<tbody>\n",
       "\t<tr><td>F       </td><td>306     </td><td>303.8   </td><td>98.16290</td><td>31.04184</td></tr>\n",
       "\t<tr><td>M       </td><td>140     </td><td>140.1   </td><td>48.66998</td><td>15.39080</td></tr>\n",
       "</tbody>\n",
       "</table>\n"
      ],
      "text/latex": [
       "\\begin{tabular}{r|lllll}\n",
       " Sex & median & mean & sd & sem\\\\\n",
       "\\hline\n",
       "\t F        & 306      & 303.8    & 98.16290 & 31.04184\\\\\n",
       "\t M        & 140      & 140.1    & 48.66998 & 15.39080\\\\\n",
       "\\end{tabular}\n"
      ],
      "text/markdown": [
       "\n",
       "| Sex | median | mean | sd | sem |\n",
       "|---|---|---|---|---|\n",
       "| F        | 306      | 303.8    | 98.16290 | 31.04184 |\n",
       "| M        | 140      | 140.1    | 48.66998 | 15.39080 |\n",
       "\n"
      ],
      "text/plain": [
       "  Sex median mean  sd       sem     \n",
       "1 F   306    303.8 98.16290 31.04184\n",
       "2 M   140    140.1 48.66998 15.39080"
      ]
     },
     "metadata": {},
     "output_type": "display_data"
    },
    {
     "data": {
      "text/plain": [
       "\n",
       "\tKruskal-Wallis rank sum test\n",
       "\n",
       "data:  Observed by Sex\n",
       "Kruskal-Wallis chi-squared = 11.063, df = 1, p-value = 0.0008807\n"
      ]
     },
     "metadata": {},
     "output_type": "display_data"
    },
    {
     "name": "stdout",
     "output_type": "stream",
     "text": [
      "  Kruskal-Wallis rank sum test\n",
      "\n",
      "data: x and group\n",
      "Kruskal-Wallis chi-squared = 11.0629, df = 1, p-value = 0\n",
      "\n",
      "\n",
      "                           Comparison of x by group                            \n",
      "                                 (Bonferroni)                                  \n",
      "Col Mean-|\n",
      "Row Mean |          F\n",
      "---------+-----------\n",
      "       M |   3.326087\n",
      "         |    0.0004*\n",
      "\n",
      "alpha = 0.05\n",
      "Reject Ho if p <= alpha/2\n"
     ]
    },
    {
     "data": {
      "text/html": [
       "<dl>\n",
       "\t<dt>$chi2</dt>\n",
       "\t\t<dd>11.0628571428571</dd>\n",
       "\t<dt>$Z</dt>\n",
       "\t\t<dd>3.3260873624812</dd>\n",
       "\t<dt>$P</dt>\n",
       "\t\t<dd>0.000440371595370864</dd>\n",
       "\t<dt>$P.adjusted</dt>\n",
       "\t\t<dd>0.000440371595370864</dd>\n",
       "\t<dt>$comparisons</dt>\n",
       "\t\t<dd>'F - M'</dd>\n",
       "</dl>\n"
      ],
      "text/latex": [
       "\\begin{description}\n",
       "\\item[\\$chi2] 11.0628571428571\n",
       "\\item[\\$Z] 3.3260873624812\n",
       "\\item[\\$P] 0.000440371595370864\n",
       "\\item[\\$P.adjusted] 0.000440371595370864\n",
       "\\item[\\$comparisons] 'F - M'\n",
       "\\end{description}\n"
      ],
      "text/markdown": [
       "$chi2\n",
       ":   11.0628571428571\n",
       "$Z\n",
       ":   3.3260873624812\n",
       "$P\n",
       ":   0.000440371595370864\n",
       "$P.adjusted\n",
       ":   0.000440371595370864\n",
       "$comparisons\n",
       ":   'F - M'\n",
       "\n",
       "\n"
      ],
      "text/plain": [
       "$chi2\n",
       "[1] 11.06286\n",
       "\n",
       "$Z\n",
       "[1] 3.326087\n",
       "\n",
       "$P\n",
       "[1] 0.0004403716\n",
       "\n",
       "$P.adjusted\n",
       "[1] 0.0004403716\n",
       "\n",
       "$comparisons\n",
       "[1] \"F - M\"\n"
      ]
     },
     "metadata": {},
     "output_type": "display_data"
    }
   ],
   "source": [
    "#Observed richness - treatment by sex\n",
    "\n",
    "alz_nt_abx = subset_samples(alz_nt, Treatment==\"Abx\")\n",
    "\n",
    "obs = estimate_richness(na.omit(alz_nt_abx), split = TRUE, measures = \"Observed\")\n",
    "obs$SampleID = rownames(obs)\n",
    "\n",
    "dfobs = merge(obs, sample_tab, on=\"SampleID\")\n",
    "\n",
    "ordobs = obs %>% group_by(\"Sex\") %>%\n",
    "    summarize(med.obs = median(Observed)) %>%\n",
    "    arrange(desc(med.obs)) %>%\n",
    "    magrittr::extract2(\"Sex\")\n",
    "\n",
    "stats.obs = dfobs %>%\n",
    "    group_by(Sex) %>%\n",
    "    summarize(median = median(Observed), \n",
    "              mean = mean(Observed),\n",
    "              sd = sd(Observed),\n",
    "              sem = sd(Observed/sqrt(length(Observed)))) #%>%\n",
    "    #arrange(-desc(mean))\n",
    "stats.obs\n",
    "\n",
    "#CHECK FOR SIGNIFICANCE\n",
    "stats.krusk = kruskal.test(Observed~Sex, data=dfobs)\n",
    "stats.krusk\n",
    "\n",
    "#POST-HOC ANALYSIS\n",
    "dunn = dunn.test(dfobs$Observed, g=dfobs$Sex, method=\"bonferroni\")\n",
    "dunn"
   ]
  },
  {
   "cell_type": "markdown",
   "metadata": {},
   "source": [
    "### Shannon Index"
   ]
  },
  {
   "cell_type": "code",
   "execution_count": 30,
   "metadata": {},
   "outputs": [
    {
     "data": {
      "text/html": [
       "<table>\n",
       "<thead><tr><th scope=col>Treatment</th><th scope=col>median</th><th scope=col>mean</th><th scope=col>sd</th><th scope=col>sem</th></tr></thead>\n",
       "<tbody>\n",
       "\t<tr><td>Abx       </td><td>4.121182  </td><td>3.677180  </td><td>0.9184205 </td><td>0.29043005</td></tr>\n",
       "\t<tr><td>Abx_FMT   </td><td>4.381399  </td><td>4.304000  </td><td>0.3114393 </td><td>0.09848574</td></tr>\n",
       "\t<tr><td>Control   </td><td>4.349854  </td><td>4.201408  </td><td>0.5166722 </td><td>0.16338608</td></tr>\n",
       "</tbody>\n",
       "</table>\n"
      ],
      "text/latex": [
       "\\begin{tabular}{r|lllll}\n",
       " Treatment & median & mean & sd & sem\\\\\n",
       "\\hline\n",
       "\t Abx        & 4.121182   & 3.677180   & 0.9184205  & 0.29043005\\\\\n",
       "\t Abx\\_FMT  & 4.381399   & 4.304000   & 0.3114393  & 0.09848574\\\\\n",
       "\t Control    & 4.349854   & 4.201408   & 0.5166722  & 0.16338608\\\\\n",
       "\\end{tabular}\n"
      ],
      "text/markdown": [
       "\n",
       "| Treatment | median | mean | sd | sem |\n",
       "|---|---|---|---|---|\n",
       "| Abx        | 4.121182   | 3.677180   | 0.9184205  | 0.29043005 |\n",
       "| Abx_FMT    | 4.381399   | 4.304000   | 0.3114393  | 0.09848574 |\n",
       "| Control    | 4.349854   | 4.201408   | 0.5166722  | 0.16338608 |\n",
       "\n"
      ],
      "text/plain": [
       "  Treatment median   mean     sd        sem       \n",
       "1 Abx       4.121182 3.677180 0.9184205 0.29043005\n",
       "2 Abx_FMT   4.381399 4.304000 0.3114393 0.09848574\n",
       "3 Control   4.349854 4.201408 0.5166722 0.16338608"
      ]
     },
     "metadata": {},
     "output_type": "display_data"
    },
    {
     "data": {
      "text/plain": [
       "\n",
       "\tKruskal-Wallis rank sum test\n",
       "\n",
       "data:  Shannon by Treatment\n",
       "Kruskal-Wallis chi-squared = 4.1884, df = 2, p-value = 0.1232\n"
      ]
     },
     "metadata": {},
     "output_type": "display_data"
    },
    {
     "name": "stdout",
     "output_type": "stream",
     "text": [
      "  Kruskal-Wallis rank sum test\n",
      "\n",
      "data: x and group\n",
      "Kruskal-Wallis chi-squared = 4.1884, df = 2, p-value = 0.12\n",
      "\n",
      "\n",
      "                           Comparison of x by group                            \n",
      "                                 (Bonferroni)                                  \n",
      "Col Mean-|\n",
      "Row Mean |        Abx    Abx_FMT\n",
      "---------+----------------------\n",
      " Abx_FMT |  -1.905001\n",
      "         |     0.0852\n",
      "         |\n",
      " Control |  -1.600201   0.304800\n",
      "         |     0.1643     1.0000\n",
      "\n",
      "alpha = 0.05\n",
      "Reject Ho if p <= alpha/2\n"
     ]
    },
    {
     "data": {
      "text/html": [
       "<dl>\n",
       "\t<dt>$chi2</dt>\n",
       "\t\t<dd>4.18838709677419</dd>\n",
       "\t<dt>$Z</dt>\n",
       "\t\t<dd><ol class=list-inline>\n",
       "\t<li>-1.90500190500286</li>\n",
       "\t<li>-1.6002016002024</li>\n",
       "\t<li>0.304800304800457</li>\n",
       "</ol>\n",
       "</dd>\n",
       "\t<dt>$P</dt>\n",
       "\t\t<dd><ol class=list-inline>\n",
       "\t<li>0.0283899117371784</li>\n",
       "\t<li>0.0547769336430925</li>\n",
       "\t<li>0.380259124684244</li>\n",
       "</ol>\n",
       "</dd>\n",
       "\t<dt>$P.adjusted</dt>\n",
       "\t\t<dd><ol class=list-inline>\n",
       "\t<li>0.0851697352115353</li>\n",
       "\t<li>0.164330800929278</li>\n",
       "\t<li>1</li>\n",
       "</ol>\n",
       "</dd>\n",
       "\t<dt>$comparisons</dt>\n",
       "\t\t<dd><ol class=list-inline>\n",
       "\t<li>'Abx - Abx_FMT'</li>\n",
       "\t<li>'Abx - Control'</li>\n",
       "\t<li>'Abx_FMT - Control'</li>\n",
       "</ol>\n",
       "</dd>\n",
       "</dl>\n"
      ],
      "text/latex": [
       "\\begin{description}\n",
       "\\item[\\$chi2] 4.18838709677419\n",
       "\\item[\\$Z] \\begin{enumerate*}\n",
       "\\item -1.90500190500286\n",
       "\\item -1.6002016002024\n",
       "\\item 0.304800304800457\n",
       "\\end{enumerate*}\n",
       "\n",
       "\\item[\\$P] \\begin{enumerate*}\n",
       "\\item 0.0283899117371784\n",
       "\\item 0.0547769336430925\n",
       "\\item 0.380259124684244\n",
       "\\end{enumerate*}\n",
       "\n",
       "\\item[\\$P.adjusted] \\begin{enumerate*}\n",
       "\\item 0.0851697352115353\n",
       "\\item 0.164330800929278\n",
       "\\item 1\n",
       "\\end{enumerate*}\n",
       "\n",
       "\\item[\\$comparisons] \\begin{enumerate*}\n",
       "\\item 'Abx - Abx\\_FMT'\n",
       "\\item 'Abx - Control'\n",
       "\\item 'Abx\\_FMT - Control'\n",
       "\\end{enumerate*}\n",
       "\n",
       "\\end{description}\n"
      ],
      "text/markdown": [
       "$chi2\n",
       ":   4.18838709677419\n",
       "$Z\n",
       ":   1. -1.90500190500286\n",
       "2. -1.6002016002024\n",
       "3. 0.304800304800457\n",
       "\n",
       "\n",
       "\n",
       "$P\n",
       ":   1. 0.0283899117371784\n",
       "2. 0.0547769336430925\n",
       "3. 0.380259124684244\n",
       "\n",
       "\n",
       "\n",
       "$P.adjusted\n",
       ":   1. 0.0851697352115353\n",
       "2. 0.164330800929278\n",
       "3. 1\n",
       "\n",
       "\n",
       "\n",
       "$comparisons\n",
       ":   1. 'Abx - Abx_FMT'\n",
       "2. 'Abx - Control'\n",
       "3. 'Abx_FMT - Control'\n",
       "\n",
       "\n",
       "\n",
       "\n",
       "\n"
      ],
      "text/plain": [
       "$chi2\n",
       "[1] 4.188387\n",
       "\n",
       "$Z\n",
       "[1] -1.9050019 -1.6002016  0.3048003\n",
       "\n",
       "$P\n",
       "[1] 0.02838991 0.05477693 0.38025912\n",
       "\n",
       "$P.adjusted\n",
       "[1] 0.08516974 0.16433080 1.00000000\n",
       "\n",
       "$comparisons\n",
       "[1] \"Abx - Abx_FMT\"     \"Abx - Control\"     \"Abx_FMT - Control\"\n"
      ]
     },
     "metadata": {},
     "output_type": "display_data"
    }
   ],
   "source": [
    "#Shanon Index by treatment group - MALES\n",
    "\n",
    "sha = estimate_richness(na.omit(alz_nt_1k_M), split = TRUE, measures = \"Shannon\")\n",
    "sha$SampleID = rownames(sha)\n",
    "\n",
    "dfsha = merge(sha, sample_tab, on=\"SampleID\")\n",
    "\n",
    "ordsha = sha %>% group_by(\"Treatment\") %>%\n",
    "    summarize(med.sha = median(Shannon)) %>%\n",
    "    arrange(desc(med.sha)) %>%\n",
    "    magrittr::extract2(\"Treatment\")\n",
    "\n",
    "stats.sha = dfsha %>%\n",
    "    group_by(Treatment) %>%\n",
    "    summarize(median = median(Shannon), \n",
    "              mean = mean(Shannon),\n",
    "              sd = sd(Shannon),\n",
    "              sem = sd(Shannon/sqrt(length(Shannon)))) #%>%\n",
    "    #arrange(-desc(mean))\n",
    "stats.sha\n",
    "\n",
    "#CHECK FOR SIGNIFICANCE\n",
    "stats.krusk = kruskal.test(Shannon~Treatment, data=dfsha)\n",
    "stats.krusk\n",
    "\n",
    "#POST-HOC ANALYSIS\n",
    "dunn = dunn.test(dfsha$Shannon, g=dfsha$Treatment, method=\"bonferroni\")\n",
    "dunn"
   ]
  },
  {
   "cell_type": "code",
   "execution_count": 31,
   "metadata": {},
   "outputs": [
    {
     "data": {
      "text/html": [
       "<table>\n",
       "<thead><tr><th scope=col>Treatment</th><th scope=col>median</th><th scope=col>mean</th><th scope=col>sd</th><th scope=col>sem</th></tr></thead>\n",
       "<tbody>\n",
       "\t<tr><td>Abx      </td><td>3.890101 </td><td>3.751124 </td><td>0.7721164</td><td>0.2441646</td></tr>\n",
       "\t<tr><td>Control  </td><td>4.118350 </td><td>4.058084 </td><td>0.5315266</td><td>0.1771755</td></tr>\n",
       "</tbody>\n",
       "</table>\n"
      ],
      "text/latex": [
       "\\begin{tabular}{r|lllll}\n",
       " Treatment & median & mean & sd & sem\\\\\n",
       "\\hline\n",
       "\t Abx       & 3.890101  & 3.751124  & 0.7721164 & 0.2441646\\\\\n",
       "\t Control   & 4.118350  & 4.058084  & 0.5315266 & 0.1771755\\\\\n",
       "\\end{tabular}\n"
      ],
      "text/markdown": [
       "\n",
       "| Treatment | median | mean | sd | sem |\n",
       "|---|---|---|---|---|\n",
       "| Abx       | 3.890101  | 3.751124  | 0.7721164 | 0.2441646 |\n",
       "| Control   | 4.118350  | 4.058084  | 0.5315266 | 0.1771755 |\n",
       "\n"
      ],
      "text/plain": [
       "  Treatment median   mean     sd        sem      \n",
       "1 Abx       3.890101 3.751124 0.7721164 0.2441646\n",
       "2 Control   4.118350 4.058084 0.5315266 0.1771755"
      ]
     },
     "metadata": {},
     "output_type": "display_data"
    },
    {
     "data": {
      "text/plain": [
       "\n",
       "\tKruskal-Wallis rank sum test\n",
       "\n",
       "data:  Shannon by Treatment\n",
       "Kruskal-Wallis chi-squared = 0.32667, df = 1, p-value = 0.5676\n"
      ]
     },
     "metadata": {},
     "output_type": "display_data"
    },
    {
     "name": "stdout",
     "output_type": "stream",
     "text": [
      "  Kruskal-Wallis rank sum test\n",
      "\n",
      "data: x and group\n",
      "Kruskal-Wallis chi-squared = 0.3267, df = 1, p-value = 0.57\n",
      "\n",
      "\n",
      "                           Comparison of x by group                            \n",
      "                                 (Bonferroni)                                  \n",
      "Col Mean-|\n",
      "Row Mean |        Abx\n",
      "---------+-----------\n",
      " Control |  -0.571547\n",
      "         |     0.2838\n",
      "\n",
      "alpha = 0.05\n",
      "Reject Ho if p <= alpha/2\n"
     ]
    },
    {
     "data": {
      "text/html": [
       "<dl>\n",
       "\t<dt>$chi2</dt>\n",
       "\t\t<dd>0.326666666666668</dd>\n",
       "\t<dt>$Z</dt>\n",
       "\t\t<dd>-0.571547606649408</dd>\n",
       "\t<dt>$P</dt>\n",
       "\t\t<dd>0.283814249631668</dd>\n",
       "\t<dt>$P.adjusted</dt>\n",
       "\t\t<dd>0.283814249631668</dd>\n",
       "\t<dt>$comparisons</dt>\n",
       "\t\t<dd>'Abx - Control'</dd>\n",
       "</dl>\n"
      ],
      "text/latex": [
       "\\begin{description}\n",
       "\\item[\\$chi2] 0.326666666666668\n",
       "\\item[\\$Z] -0.571547606649408\n",
       "\\item[\\$P] 0.283814249631668\n",
       "\\item[\\$P.adjusted] 0.283814249631668\n",
       "\\item[\\$comparisons] 'Abx - Control'\n",
       "\\end{description}\n"
      ],
      "text/markdown": [
       "$chi2\n",
       ":   0.326666666666668\n",
       "$Z\n",
       ":   -0.571547606649408\n",
       "$P\n",
       ":   0.283814249631668\n",
       "$P.adjusted\n",
       ":   0.283814249631668\n",
       "$comparisons\n",
       ":   'Abx - Control'\n",
       "\n",
       "\n"
      ],
      "text/plain": [
       "$chi2\n",
       "[1] 0.3266667\n",
       "\n",
       "$Z\n",
       "[1] -0.5715476\n",
       "\n",
       "$P\n",
       "[1] 0.2838142\n",
       "\n",
       "$P.adjusted\n",
       "[1] 0.2838142\n",
       "\n",
       "$comparisons\n",
       "[1] \"Abx - Control\"\n"
      ]
     },
     "metadata": {},
     "output_type": "display_data"
    }
   ],
   "source": [
    "#Shanon Index by treatment group - FEMALES\n",
    "\n",
    "sha = estimate_richness(na.omit(alz_nt_1k_F), split = TRUE, measures = \"Shannon\")\n",
    "sha$SampleID = rownames(sha)\n",
    "\n",
    "dfsha = merge(sha, sample_tab, on=\"SampleID\")\n",
    "\n",
    "ordsha = sha %>% group_by(\"Treatment\") %>%\n",
    "    summarize(med.sha = median(Shannon)) %>%\n",
    "    arrange(desc(med.sha)) %>%\n",
    "    magrittr::extract2(\"Treatment\")\n",
    "\n",
    "stats.sha = dfsha %>%\n",
    "    group_by(Treatment) %>%\n",
    "    summarize(median = median(Shannon), \n",
    "              mean = mean(Shannon),\n",
    "              sd = sd(Shannon),\n",
    "              sem = sd(Shannon/sqrt(length(Shannon)))) #%>%\n",
    "    #arrange(-desc(mean))\n",
    "stats.sha\n",
    "\n",
    "#CHECK FOR SIGNIFICANCE\n",
    "stats.krusk = kruskal.test(Shannon~Treatment, data=dfsha)\n",
    "stats.krusk\n",
    "\n",
    "#POST-HOC ANALYSIS\n",
    "dunn = dunn.test(dfsha$Shannon, g=dfsha$Treatment, method=\"bonferroni\")\n",
    "dunn"
   ]
  },
  {
   "cell_type": "code",
   "execution_count": 52,
   "metadata": {},
   "outputs": [
    {
     "data": {
      "text/html": [
       "<table>\n",
       "<thead><tr><th scope=col>Sex</th><th scope=col>median</th><th scope=col>mean</th><th scope=col>sd</th><th scope=col>sem</th></tr></thead>\n",
       "<tbody>\n",
       "\t<tr><td>F        </td><td>4.285696 </td><td>4.207371 </td><td>0.5202585</td><td>0.1734195</td></tr>\n",
       "\t<tr><td>M        </td><td>4.439775 </td><td>4.275383 </td><td>0.5166568</td><td>0.1633812</td></tr>\n",
       "</tbody>\n",
       "</table>\n"
      ],
      "text/latex": [
       "\\begin{tabular}{r|lllll}\n",
       " Sex & median & mean & sd & sem\\\\\n",
       "\\hline\n",
       "\t F         & 4.285696  & 4.207371  & 0.5202585 & 0.1734195\\\\\n",
       "\t M         & 4.439775  & 4.275383  & 0.5166568 & 0.1633812\\\\\n",
       "\\end{tabular}\n"
      ],
      "text/markdown": [
       "\n",
       "| Sex | median | mean | sd | sem |\n",
       "|---|---|---|---|---|\n",
       "| F         | 4.285696  | 4.207371  | 0.5202585 | 0.1734195 |\n",
       "| M         | 4.439775  | 4.275383  | 0.5166568 | 0.1633812 |\n",
       "\n"
      ],
      "text/plain": [
       "  Sex median   mean     sd        sem      \n",
       "1 F   4.285696 4.207371 0.5202585 0.1734195\n",
       "2 M   4.439775 4.275383 0.5166568 0.1633812"
      ]
     },
     "metadata": {},
     "output_type": "display_data"
    },
    {
     "data": {
      "text/plain": [
       "\n",
       "\tKruskal-Wallis rank sum test\n",
       "\n",
       "data:  Shannon by Sex\n",
       "Kruskal-Wallis chi-squared = 0.10667, df = 1, p-value = 0.744\n"
      ]
     },
     "metadata": {},
     "output_type": "display_data"
    },
    {
     "name": "stdout",
     "output_type": "stream",
     "text": [
      "  Kruskal-Wallis rank sum test\n",
      "\n",
      "data: x and group\n",
      "Kruskal-Wallis chi-squared = 0.1067, df = 1, p-value = 0.74\n",
      "\n",
      "\n",
      "                           Comparison of x by group                            \n",
      "                                 (Bonferroni)                                  \n",
      "Col Mean-|\n",
      "Row Mean |          F\n",
      "---------+-----------\n",
      "       M |  -0.326598\n",
      "         |     0.3720\n",
      "\n",
      "alpha = 0.05\n",
      "Reject Ho if p <= alpha/2\n"
     ]
    },
    {
     "data": {
      "text/html": [
       "<dl>\n",
       "\t<dt>$chi2</dt>\n",
       "\t\t<dd>0.106666666666669</dd>\n",
       "\t<dt>$Z</dt>\n",
       "\t\t<dd>-0.326598632371091</dd>\n",
       "\t<dt>$P</dt>\n",
       "\t\t<dd>0.371985739037528</dd>\n",
       "\t<dt>$P.adjusted</dt>\n",
       "\t\t<dd>0.371985739037528</dd>\n",
       "\t<dt>$comparisons</dt>\n",
       "\t\t<dd>'F - M'</dd>\n",
       "</dl>\n"
      ],
      "text/latex": [
       "\\begin{description}\n",
       "\\item[\\$chi2] 0.106666666666669\n",
       "\\item[\\$Z] -0.326598632371091\n",
       "\\item[\\$P] 0.371985739037528\n",
       "\\item[\\$P.adjusted] 0.371985739037528\n",
       "\\item[\\$comparisons] 'F - M'\n",
       "\\end{description}\n"
      ],
      "text/markdown": [
       "$chi2\n",
       ":   0.106666666666669\n",
       "$Z\n",
       ":   -0.326598632371091\n",
       "$P\n",
       ":   0.371985739037528\n",
       "$P.adjusted\n",
       ":   0.371985739037528\n",
       "$comparisons\n",
       ":   'F - M'\n",
       "\n",
       "\n"
      ],
      "text/plain": [
       "$chi2\n",
       "[1] 0.1066667\n",
       "\n",
       "$Z\n",
       "[1] -0.3265986\n",
       "\n",
       "$P\n",
       "[1] 0.3719857\n",
       "\n",
       "$P.adjusted\n",
       "[1] 0.3719857\n",
       "\n",
       "$comparisons\n",
       "[1] \"F - M\"\n"
      ]
     },
     "metadata": {},
     "output_type": "display_data"
    }
   ],
   "source": [
    "#Shannon richness - treatment by sex\n",
    "\n",
    "alz_nt_control = subset_samples(alz_nt, Treatment==\"Control\")\n",
    "\n",
    "sha = estimate_richness(na.omit(alz_nt_control), split = TRUE, measures = \"Shannon\")\n",
    "sha$SampleID = rownames(sha)\n",
    "\n",
    "dfsha = merge(sha, sample_tab, on=\"SampleID\")\n",
    "\n",
    "ordsha = sha %>% group_by(\"Sex\") %>%\n",
    "    summarize(med.sha = median(Shannon)) %>%\n",
    "    arrange(desc(med.sha)) %>%\n",
    "    magrittr::extract2(\"Sex\")\n",
    "\n",
    "stats.sha = dfsha %>%\n",
    "    group_by(Sex) %>%\n",
    "    summarize(median = median(Shannon), \n",
    "              mean = mean(Shannon),\n",
    "              sd = sd(Shannon),\n",
    "              sem = sd(Shannon/sqrt(length(Shannon)))) #%>%\n",
    "    #arrange(-desc(mean))\n",
    "stats.sha\n",
    "\n",
    "#CHECK FOR SIGNIFICANCE\n",
    "stats.krusk = kruskal.test(Shannon~Sex, data=dfsha)\n",
    "stats.krusk\n",
    "\n",
    "#POST-HOC ANALYSIS\n",
    "dunn = dunn.test(dfsha$Shannon, g=dfsha$Sex, method=\"bonferroni\")\n",
    "dunn"
   ]
  },
  {
   "cell_type": "code",
   "execution_count": 51,
   "metadata": {},
   "outputs": [
    {
     "data": {
      "text/html": [
       "<table>\n",
       "<thead><tr><th scope=col>Sex</th><th scope=col>median</th><th scope=col>mean</th><th scope=col>sd</th><th scope=col>sem</th></tr></thead>\n",
       "<tbody>\n",
       "\t<tr><td>F        </td><td>3.981240 </td><td>3.885799 </td><td>0.7922465</td><td>0.2505303</td></tr>\n",
       "\t<tr><td>M        </td><td>4.178726 </td><td>3.750315 </td><td>0.9232856</td><td>0.2919686</td></tr>\n",
       "</tbody>\n",
       "</table>\n"
      ],
      "text/latex": [
       "\\begin{tabular}{r|lllll}\n",
       " Sex & median & mean & sd & sem\\\\\n",
       "\\hline\n",
       "\t F         & 3.981240  & 3.885799  & 0.7922465 & 0.2505303\\\\\n",
       "\t M         & 4.178726  & 3.750315  & 0.9232856 & 0.2919686\\\\\n",
       "\\end{tabular}\n"
      ],
      "text/markdown": [
       "\n",
       "| Sex | median | mean | sd | sem |\n",
       "|---|---|---|---|---|\n",
       "| F         | 3.981240  | 3.885799  | 0.7922465 | 0.2505303 |\n",
       "| M         | 4.178726  | 3.750315  | 0.9232856 | 0.2919686 |\n",
       "\n"
      ],
      "text/plain": [
       "  Sex median   mean     sd        sem      \n",
       "1 F   3.981240 3.885799 0.7922465 0.2505303\n",
       "2 M   4.178726 3.750315 0.9232856 0.2919686"
      ]
     },
     "metadata": {},
     "output_type": "display_data"
    },
    {
     "data": {
      "text/plain": [
       "\n",
       "\tKruskal-Wallis rank sum test\n",
       "\n",
       "data:  Shannon by Sex\n",
       "Kruskal-Wallis chi-squared = 0.0057143, df = 1, p-value = 0.9397\n"
      ]
     },
     "metadata": {},
     "output_type": "display_data"
    },
    {
     "name": "stdout",
     "output_type": "stream",
     "text": [
      "  Kruskal-Wallis rank sum test\n",
      "\n",
      "data: x and group\n",
      "Kruskal-Wallis chi-squared = 0.0057, df = 1, p-value = 0.94\n",
      "\n",
      "\n",
      "                           Comparison of x by group                            \n",
      "                                 (Bonferroni)                                  \n",
      "Col Mean-|\n",
      "Row Mean |          F\n",
      "---------+-----------\n",
      "       M |   0.075592\n",
      "         |     0.4699\n",
      "\n",
      "alpha = 0.05\n",
      "Reject Ho if p <= alpha/2\n"
     ]
    },
    {
     "data": {
      "text/html": [
       "<dl>\n",
       "\t<dt>$chi2</dt>\n",
       "\t\t<dd>0.00571428571427646</dd>\n",
       "\t<dt>$Z</dt>\n",
       "\t\t<dd>0.0755928946018452</dd>\n",
       "\t<dt>$P</dt>\n",
       "\t\t<dd>0.469871494788537</dd>\n",
       "\t<dt>$P.adjusted</dt>\n",
       "\t\t<dd>0.469871494788537</dd>\n",
       "\t<dt>$comparisons</dt>\n",
       "\t\t<dd>'F - M'</dd>\n",
       "</dl>\n"
      ],
      "text/latex": [
       "\\begin{description}\n",
       "\\item[\\$chi2] 0.00571428571427646\n",
       "\\item[\\$Z] 0.0755928946018452\n",
       "\\item[\\$P] 0.469871494788537\n",
       "\\item[\\$P.adjusted] 0.469871494788537\n",
       "\\item[\\$comparisons] 'F - M'\n",
       "\\end{description}\n"
      ],
      "text/markdown": [
       "$chi2\n",
       ":   0.00571428571427646\n",
       "$Z\n",
       ":   0.0755928946018452\n",
       "$P\n",
       ":   0.469871494788537\n",
       "$P.adjusted\n",
       ":   0.469871494788537\n",
       "$comparisons\n",
       ":   'F - M'\n",
       "\n",
       "\n"
      ],
      "text/plain": [
       "$chi2\n",
       "[1] 0.005714286\n",
       "\n",
       "$Z\n",
       "[1] 0.07559289\n",
       "\n",
       "$P\n",
       "[1] 0.4698715\n",
       "\n",
       "$P.adjusted\n",
       "[1] 0.4698715\n",
       "\n",
       "$comparisons\n",
       "[1] \"F - M\"\n"
      ]
     },
     "metadata": {},
     "output_type": "display_data"
    }
   ],
   "source": [
    "#Shannon richness - treatment by sex\n",
    "\n",
    "alz_nt_abx = subset_samples(alz_nt, Treatment==\"Abx\")\n",
    "\n",
    "sha = estimate_richness(na.omit(alz_nt_abx), split = TRUE, measures = \"Shannon\")\n",
    "sha$SampleID = rownames(sha)\n",
    "\n",
    "dfsha = merge(sha, sample_tab, on=\"SampleID\")\n",
    "\n",
    "ordsha = sha %>% group_by(\"Sex\") %>%\n",
    "    summarize(med.sha = median(Shannon)) %>%\n",
    "    arrange(desc(med.sha)) %>%\n",
    "    magrittr::extract2(\"Sex\")\n",
    "\n",
    "stats.sha = dfsha %>%\n",
    "    group_by(Sex) %>%\n",
    "    summarize(median = median(Shannon), \n",
    "              mean = mean(Shannon),\n",
    "              sd = sd(Shannon),\n",
    "              sem = sd(Shannon/sqrt(length(Shannon)))) #%>%\n",
    "    #arrange(-desc(mean))\n",
    "stats.sha\n",
    "\n",
    "#CHECK FOR SIGNIFICANCE\n",
    "stats.krusk = kruskal.test(Shannon~Sex, data=dfsha)\n",
    "stats.krusk\n",
    "\n",
    "#POST-HOC ANALYSIS\n",
    "dunn = dunn.test(dfsha$Shannon, g=dfsha$Sex, method=\"bonferroni\")\n",
    "dunn"
   ]
  },
  {
   "cell_type": "markdown",
   "metadata": {},
   "source": [
    "### Calculate Faith's PD"
   ]
  },
  {
   "cell_type": "code",
   "execution_count": 6,
   "metadata": {},
   "outputs": [],
   "source": [
    "library(picante)"
   ]
  },
  {
   "cell_type": "code",
   "execution_count": null,
   "metadata": {},
   "outputs": [],
   "source": [
    "#Code for rooting tree in qiime2\n",
    "#Import tree\n",
    "$ qiime tools import \\\n",
    "> --input-path rep_phylo.tre \\\n",
    "> --output-path rep_phylo.qza \\\n",
    "> --type 'Phylogeny[Unrooted]'\n",
    "#Use midpoint rooting\n",
    "$ qiime phylogeny midpoint-root \\\n",
    "> --i-tree rep_phylo.qza \\\n",
    "> --o-rooted-tree rep_phylo_rooted.qza\n",
    "#Export tree as newick for ps\n",
    "$qiime tools export \\\n",
    "> --input-path rep_phylo_rooted.qza \\\n",
    "> --output-path rep_phylo_rooted.tre\n"
   ]
  },
  {
   "cell_type": "code",
   "execution_count": 29,
   "metadata": {},
   "outputs": [],
   "source": [
    "#Input data should be rooted newick tree (see codeblock above)\n",
    "setwd(\"/gpfs/data/gilbert-lab/Lutz/Alzheimers/ps_files/\")\n",
    "tree <- read_tree(\"rep_phylo_rooted.tre/tree.nwk\")\n",
    "#...and OTU table as transformed matrix\n",
    "alz_nt_otu = t(as.matrix(data.frame(otu_table(alz_nt))))\n",
    "alz_nt_otu_1k = t(as.matrix(data.frame(otu_table(alz_nt_1k))))\n",
    "alz_nt_otu_5k = t(as.matrix(data.frame(otu_table(alz_nt_5k))))\n",
    "alz_nt_otu_10k = t(as.matrix(data.frame(otu_table(alz_nt_10k))))"
   ]
  },
  {
   "cell_type": "code",
   "execution_count": 30,
   "metadata": {},
   "outputs": [],
   "source": [
    "alz.pd <- pd(alz_nt_otu, tree, include.root=TRUE)\n",
    "alz_1k.pd <- pd(alz_nt_otu_1k, tree, include.root=TRUE)\n",
    "alz_5k.pd <- pd(alz_nt_otu_5k, tree, include.root=TRUE)\n",
    "alz_10k.pd <- pd(alz_nt_otu_10k, tree, include.root=TRUE)"
   ]
  },
  {
   "cell_type": "code",
   "execution_count": 37,
   "metadata": {},
   "outputs": [],
   "source": [
    "alz.pd = read.csv(\"/gpfs/data/gilbert-lab/Lutz/Alzheimers/Adiv/FaithsPD.results.nonrare.csv\", header=T)\n",
    "alz_1k.pd = read.csv(\"/gpfs/data/gilbert-lab/Lutz/Alzheimers/Adiv/FaithsPD.results.1krare.csv\")\n",
    "alz_5k.pd = read.csv(\"/gpfs/data/gilbert-lab/Lutz/Alzheimers/Adiv/FaithsPD.results.5krare.csv\")\n",
    "alz_10k.pd = read.csv(\"/gpfs/data/gilbert-lab/Lutz/Alzheimers/Adiv/FaithsPD.results.10krare.csv\")"
   ]
  },
  {
   "cell_type": "code",
   "execution_count": 39,
   "metadata": {},
   "outputs": [
    {
     "name": "stderr",
     "output_type": "stream",
     "text": [
      "Joining, by = \"SampleID\"\n",
      "Joining, by = \"SampleID\"\n",
      "Joining, by = \"SampleID\"\n",
      "Warning message:\n",
      "“Column `SampleID` joining factors with different levels, coercing to character vector”Joining, by = \"SampleID\"\n",
      "Warning message:\n",
      "“Column `SampleID` joining factors with different levels, coercing to character vector”"
     ]
    }
   ],
   "source": [
    "#fix header\n",
    "data = data.frame(sample_data(alz_nt))\n",
    "names(data)[1]<-\"SampleID\"\n",
    "#nonrare\n",
    "alz_pd = left_join(data, alz.pd)\n",
    "#1k rare\n",
    "alz_pd_1k = left_join(data, alz_1k.pd)\n",
    "#5k rare\n",
    "alz_pd_5k = left_join(data, alz_5k.pd)\n",
    "#10k rare\n",
    "alz_pd_10k = left_join(data, alz_10k.pd)"
   ]
  },
  {
   "cell_type": "markdown",
   "metadata": {},
   "source": [
    "#### Faith's PD - Non-rarefied"
   ]
  },
  {
   "cell_type": "code",
   "execution_count": 40,
   "metadata": {},
   "outputs": [
    {
     "name": "stderr",
     "output_type": "stream",
     "text": [
      "`stat_bindot()` using `bins = 30`. Pick better value with `binwidth`.\n"
     ]
    },
    {
     "data": {
      "image/png": "[encoded data removed]",
      "text/plain": [
       "plot without title"
      ]
     },
     "metadata": {},
     "output_type": "display_data"
    }
   ],
   "source": [
    "p = ggplot(alz_pd, aes(x=Sex_Treatment, y=PD)) + geom_boxplot() + ggtitle(\"Faith's PD - Non-rarefied\")\n",
    "p = p + geom_dotplot(binaxis='y', stackdir='center', dotsize=.2)\n",
    "# Box plot with jittered points\n",
    "# 0.2 : degree of jitter in x direction\n",
    "p = p + geom_jitter(shape=16, position=position_jitter(0.2))\n",
    "p"
   ]
  },
  {
   "cell_type": "markdown",
   "metadata": {},
   "source": [
    "#### Faith's PD - 1k rarefied"
   ]
  },
  {
   "cell_type": "code",
   "execution_count": 41,
   "metadata": {},
   "outputs": [
    {
     "name": "stderr",
     "output_type": "stream",
     "text": [
      "`stat_bindot()` using `bins = 30`. Pick better value with `binwidth`.\n"
     ]
    },
    {
     "data": {
      "image/png": "[encoded data removed]",
      "text/plain": [
       "plot without title"
      ]
     },
     "metadata": {},
     "output_type": "display_data"
    }
   ],
   "source": [
    "p = ggplot(alz_pd_1k, aes(x=Sex_Treatment, y=PD)) + geom_boxplot() + ggtitle(\"Faith's PD - 1k Rarefied\")\n",
    "p = p + geom_dotplot(binaxis='y', stackdir='center', dotsize=.2)\n",
    "# Box plot with jittered points\n",
    "# 0.2 : degree of jitter in x direction\n",
    "p = p + geom_jitter(shape=16, position=position_jitter(0.2))\n",
    "p"
   ]
  },
  {
   "cell_type": "markdown",
   "metadata": {},
   "source": [
    "#### Faith's PD - 5k rarefied"
   ]
  },
  {
   "cell_type": "code",
   "execution_count": 42,
   "metadata": {},
   "outputs": [
    {
     "name": "stderr",
     "output_type": "stream",
     "text": [
      "Warning message:\n",
      "“Removed 9 rows containing non-finite values (stat_boxplot).”`stat_bindot()` using `bins = 30`. Pick better value with `binwidth`.\n",
      "Warning message:\n",
      "“Removed 9 rows containing non-finite values (stat_bindot).”Warning message:\n",
      "“Removed 9 rows containing missing values (geom_point).”"
     ]
    },
    {
     "data": {
      "image/png": "[encoded data removed]",
      "text/plain": [
       "plot without title"
      ]
     },
     "metadata": {},
     "output_type": "display_data"
    }
   ],
   "source": [
    "p = ggplot(alz_pd_5k, aes(x=Sex_Treatment, y=PD)) + geom_boxplot() + ggtitle(\"Faith's PD - 5k Rarefied\")\n",
    "p = p + geom_dotplot(binaxis='y', stackdir='center', dotsize=.2)\n",
    "# Box plot with jittered points\n",
    "# 0.2 : degree of jitter in x direction\n",
    "p = p + geom_jitter(shape=16, position=position_jitter(0.2))\n",
    "p"
   ]
  },
  {
   "cell_type": "markdown",
   "metadata": {},
   "source": [
    "#### Faith's PD - 10k rarefied"
   ]
  },
  {
   "cell_type": "code",
   "execution_count": 43,
   "metadata": {},
   "outputs": [
    {
     "name": "stderr",
     "output_type": "stream",
     "text": [
      "Warning message:\n",
      "“Removed 15 rows containing non-finite values (stat_boxplot).”`stat_bindot()` using `bins = 30`. Pick better value with `binwidth`.\n",
      "Warning message:\n",
      "“Removed 15 rows containing non-finite values (stat_bindot).”Warning message:\n",
      "“Removed 15 rows containing missing values (geom_point).”"
     ]
    },
    {
     "data": {
      "image/png": "[encoded data removed]",
      "text/plain": [
       "plot without title"
      ]
     },
     "metadata": {},
     "output_type": "display_data"
    }
   ],
   "source": [
    "p = ggplot(alz_pd_10k, aes(x=Sex_Treatment, y=PD)) + geom_boxplot() + ggtitle(\"Faith's PD - 10k Rarefied\")\n",
    "p = p + geom_dotplot(binaxis='y', stackdir='center', dotsize=.2)\n",
    "# Box plot with jittered points\n",
    "# 0.2 : degree of jitter in x direction\n",
    "p = p + geom_jitter(shape=16, position=position_jitter(0.2))\n",
    "p"
   ]
  }
 ],
 "metadata": {
  "kernelspec": {
   "display_name": "R 3.4.1",
   "language": "R",
   "name": "ir3.4.1"
  },
  "language_info": {
   "codemirror_mode": "r",
   "file_extension": ".r",
   "mimetype": "text/x-r-source",
   "name": "R",
   "pygments_lexer": "r",
   "version": "3.4.1"
  }
 },
 "nbformat": 4,
 "nbformat_minor": 2
}
